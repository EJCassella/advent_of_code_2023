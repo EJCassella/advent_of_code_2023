{
 "cells": [
  {
   "cell_type": "code",
   "execution_count": 423,
   "metadata": {},
   "outputs": [],
   "source": [
    "import csv\n",
    "import re\n",
    "import numpy as np\n",
    "\n",
    "with open('input.txt') as f:\n",
    "  reader = csv.reader(f, delimiter=\"\\n\")\n",
    "  str_list = list(reader)\n"
   ]
  },
  {
   "cell_type": "code",
   "execution_count": 424,
   "metadata": {},
   "outputs": [
    {
     "data": {
      "text/plain": [
       "522726"
      ]
     },
     "execution_count": 424,
     "metadata": {},
     "output_type": "execute_result"
    }
   ],
   "source": [
    "part_numbers = []\n",
    "all_nums = []\n",
    "\n",
    "for line, row in enumerate(str_list):\n",
    "  res = re.finditer(r\"(\\d+)\", row[0])\n",
    "  for match in res:\n",
    "    all_nums.append(match.group())\n",
    "    low_ind = [0 if match.span()[0]-1 < 0 else match.span()[0]-1][0]\n",
    "    high_ind = [139 if match.span()[1]+1 > 139 else match.span()[1]+1][0]\n",
    "    if line == 0:\n",
    "      if bool(re.search(r'\\*|\\/|\\$|\\@|\\=|\\#|\\+|\\&|\\%|\\-', str_list[line][0][low_ind:high_ind])) | bool(re.search(r'\\*|\\/|\\$|\\@|\\=|\\#|\\+|\\&|\\%|\\-', str_list[line+1][0][low_ind:high_ind])):\n",
    "        part_numbers.append(int(match.group()))\n",
    "    elif line == 139:\n",
    "      if bool(re.search(r'\\*|\\/|\\$|\\@|\\=|\\#|\\+|\\&|\\%|\\-', str_list[line-1][0][low_ind:high_ind])) | bool(re.search(r'\\*|\\/|\\$|\\@|\\=|\\#|\\+|\\&|\\%|\\-', str_list[line][0][low_ind:high_ind])):\n",
    "        part_numbers.append(int(match.group()))\n",
    "    else:\n",
    "      if bool(re.search(r'\\*|\\/|\\$|\\@|\\=|\\#|\\+|\\&|\\%|\\-', str_list[line-1][0][low_ind:high_ind])) | bool(re.search(r'\\*|\\/|\\$|\\@|\\=|\\#|\\+|\\&|\\%|\\-', str_list[line][0][low_ind:high_ind])) | bool(re.search(r'\\*|\\/|\\$|\\@|\\=|\\#|\\+|\\&|\\%|\\-', str_list[line+1][0][low_ind:high_ind])):\n",
    "        part_numbers.append(int(match.group()))\n",
    "\n",
    "\n",
    "np.sum(part_numbers)"
   ]
  },
  {
   "cell_type": "code",
   "execution_count": 436,
   "metadata": {},
   "outputs": [
    {
     "name": "stdout",
     "output_type": "stream",
     "text": [
      "522726 81721933\n"
     ]
    }
   ],
   "source": [
    "\"\"\" Obviously this uber elegant solution isn't mine! Thank you to reddit user 4HbQ for saving me from tearing my hair out \"\"\"\n",
    "\n",
    "import math as m, re\n",
    "\n",
    "board = list(open('input.txt'))\n",
    "chars = {(r, c): [] for r in range(140) for c in range(140)\n",
    "                    if board[r][c] not in '0123456789.'}\n",
    "\n",
    "for r, row in enumerate(board):\n",
    "    for n in re.finditer(r'\\d+', row):\n",
    "        edge = {(r, c) for r in (r-1, r, r+1)\n",
    "                       for c in range(n.start()-1, n.end()+1)}\n",
    "\n",
    "        for o in edge & chars.keys():\n",
    "            chars[o].append(int(n.group()))\n",
    "\n",
    "print(sum(sum(p)    for p in chars.values()),\n",
    "      sum(m.prod(p) for p in chars.values() if len(p)==2))"
   ]
  },
  {
   "cell_type": "code",
   "execution_count": null,
   "metadata": {},
   "outputs": [],
   "source": []
  }
 ],
 "metadata": {
  "kernelspec": {
   "display_name": "fastbook",
   "language": "python",
   "name": "python3"
  },
  "language_info": {
   "codemirror_mode": {
    "name": "ipython",
    "version": 3
   },
   "file_extension": ".py",
   "mimetype": "text/x-python",
   "name": "python",
   "nbconvert_exporter": "python",
   "pygments_lexer": "ipython3",
   "version": "3.11.5"
  }
 },
 "nbformat": 4,
 "nbformat_minor": 2
}
