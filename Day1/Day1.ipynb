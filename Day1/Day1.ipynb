{
 "cells": [
  {
   "cell_type": "code",
   "execution_count": null,
   "metadata": {},
   "outputs": [],
   "source": [
    "import csv\n",
    "import numpy as np\n",
    "import re\n",
    "\n",
    "with open('input.txt') as f:\n",
    "  reader = csv.reader(f, delimiter=\" \")\n",
    "  str_list = list(reader)\n",
    "\n",
    "calibration_values = []\n",
    "\n",
    "for row in str_list:\n",
    "  all_nums = re.findall(r'\\d', row[0])\n",
    "  first_and_last = int(str(all_nums[0]) + str(all_nums[-1]))\n",
    "  calibration_values.append(first_and_last)\n",
    "\n",
    "np.sum(calibration_values)"
   ]
  }
 ],
 "metadata": {
  "kernelspec": {
   "display_name": "base",
   "language": "python",
   "name": "python3"
  },
  "language_info": {
   "name": "python",
   "version": "3.8.12"
  }
 },
 "nbformat": 4,
 "nbformat_minor": 2
}
