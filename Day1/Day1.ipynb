{
 "cells": [
  {
   "cell_type": "code",
   "execution_count": 1,
   "metadata": {},
   "outputs": [
    {
     "data": {
      "text/plain": [
       "54634"
      ]
     },
     "execution_count": 1,
     "metadata": {},
     "output_type": "execute_result"
    }
   ],
   "source": [
    "import csv\n",
    "import numpy as np\n",
    "import re\n",
    "\n",
    "with open('input.txt') as f:\n",
    "  reader = csv.reader(f, delimiter=\" \")\n",
    "  str_list = list(reader)\n",
    "\n",
    "calibration_values = []\n",
    "\n",
    "for row in str_list:\n",
    "  all_nums = re.findall(r'\\d', row[0])\n",
    "  first_and_last = int(str(all_nums[0]) + str(all_nums[-1]))\n",
    "  calibration_values.append(first_and_last)\n",
    "\n",
    "np.sum(calibration_values)"
   ]
  },
  {
   "cell_type": "code",
   "execution_count": 177,
   "metadata": {},
   "outputs": [],
   "source": [
    "calibration_values = []\n",
    "\n",
    "for row in str_list:\n",
    "  all_nums = []\n",
    "  digs = re.findall(r'(?=(\\d|one|two|three|four|five|six|seven|eight|nine))', row[0])\n",
    "  for dig in digs:\n",
    "    dig = w2n.word_to_num(dig)\n",
    "    all_nums.append(dig)\n",
    "  first_and_last = int(str(all_nums[0]) + str(all_nums[-1]))\n",
    "  calibration_values.append(first_and_last)\n",
    "\n",
    "np.sum(calibration_values)\n",
    "  "
   ]
  }
 ],
 "metadata": {
  "kernelspec": {
   "display_name": "base",
   "language": "python",
   "name": "python3"
  },
  "language_info": {
   "codemirror_mode": {
    "name": "ipython",
    "version": 3
   },
   "file_extension": ".py",
   "mimetype": "text/x-python",
   "name": "python",
   "nbconvert_exporter": "python",
   "pygments_lexer": "ipython3",
   "version": "3.11.5"
  }
 },
 "nbformat": 4,
 "nbformat_minor": 2
}
