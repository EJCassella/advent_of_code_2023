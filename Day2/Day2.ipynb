{
 "cells": [
  {
   "cell_type": "code",
   "execution_count": 217,
   "metadata": {},
   "outputs": [
    {
     "data": {
      "text/plain": [
       "2406"
      ]
     },
     "execution_count": 217,
     "metadata": {},
     "output_type": "execute_result"
    }
   ],
   "source": [
    "import csv\n",
    "import re\n",
    "import numpy as np\n",
    "\n",
    "with open('input.txt') as f:\n",
    "  reader = csv.reader(f, delimiter=\"\\t\")\n",
    "  str_list = list(reader)\n",
    "\n",
    "cubes = {'red': 12, 'green': 13, 'blue': 14}\n",
    "\n",
    "allowed_ids = []\n",
    "\n",
    "for row in str_list:\n",
    "  game_cubes = {'red': 0, 'green': 0, 'blue': 0}\n",
    "  game_id = re.split(r'(\\d+)', re.split(':', row[0])[0])[1]\n",
    "  draws = re.split(';|:', row[0])[1:]\n",
    "  for draw in draws:\n",
    "    colors = re.split(',', draw)\n",
    "    for color in colors:\n",
    "      num, col = color.split()\n",
    "      if game_cubes[col] < int(num):\n",
    "       game_cubes[col] = int(num)\n",
    "  if (game_cubes['red'] <= cubes['red']) & (game_cubes['green'] <= cubes['green']) & (game_cubes['blue'] <= cubes['blue']):\n",
    "    allowed_ids.append(int(game_id))\n",
    "\n",
    "np.sum(allowed_ids)\n"
   ]
  }
 ],
 "metadata": {
  "kernelspec": {
   "display_name": "fastbook",
   "language": "python",
   "name": "python3"
  },
  "language_info": {
   "codemirror_mode": {
    "name": "ipython",
    "version": 3
   },
   "file_extension": ".py",
   "mimetype": "text/x-python",
   "name": "python",
   "nbconvert_exporter": "python",
   "pygments_lexer": "ipython3",
   "version": "3.11.5"
  }
 },
 "nbformat": 4,
 "nbformat_minor": 2
}
